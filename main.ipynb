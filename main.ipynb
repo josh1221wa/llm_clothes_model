{
 "cells": [
  {
   "cell_type": "code",
   "execution_count": null,
   "id": "c07e107f",
   "metadata": {},
   "outputs": [
    {
     "name": "stdout",
     "output_type": "stream",
     "text": [
      "You have exceeded todays quota.\n"
     ]
    }
   ],
   "source": [
    "from google import genai\n",
    "from google.genai import types\n",
    "from google.genai.errors import ClientError\n",
    "from io import BytesIO\n",
    "from dotenv import load_dotenv\n",
    "import os\n",
    "import PIL.Image\n",
    "import time\n",
    "\n",
    "load_dotenv()\n",
    "    \n",
    "MAX_RETRIES = 5\n",
    "attempts = 0\n",
    "\n",
    "image = PIL.Image.open('sample_images\\sample_4.jpg')\n",
    "\n",
    "client = genai.Client(api_key=os.getenv(\"GEMINI_API_KEY\"))\n",
    "\n",
    "text_input = ('The given is an image of a piece of clothing. I want you to generate a ultrarealistic image of the clothing on a person.',\n",
    "              'You must strictly make sure that the clothing is represented exactly how is given in the reference image.',\n",
    "              'You must show the person completely from head to toe and if any necessary piece of clothing is missing (such as a bottom from an image of a top), you may add as appropriate.',\n",
    "              'The generated image is to be used to display the item on an ecommerce website so keep that in mind when generating it.')\n",
    "\n",
    "while attempts < MAX_RETRIES:\n",
    "  try:\n",
    "    response = client.models.generate_content(\n",
    "        model=\"gemini-2.0-flash-preview-image-generation\",\n",
    "        contents=[text_input, image],\n",
    "        config=types.GenerateContentConfig(\n",
    "            response_modalities=['TEXT', 'IMAGE'],\n",
    "            temperature=0.5\n",
    "        )\n",
    "    )\n",
    "\n",
    "    output = {\"text\": None, \"image\": None}\n",
    "    for part in response.candidates[0].content.parts:\n",
    "        if part.text is not None:\n",
    "            output[\"text\"] = part.text\n",
    "        elif part.inline_data is not None:\n",
    "            image = BytesIO((part.inline_data.data))\n",
    "            output[\"image\"] = image\n",
    "\n",
    "    display(output)\n",
    "    break\n",
    "  \n",
    "  except ClientError as e:\n",
    "    if str(e).startswith(\"429 RESOURCE_EXHAUSTED\"):\n",
    "      print(\"You have exceeded todays quota.\")\n",
    "      break\n",
    "  \n",
    "  except Exception as e:\n",
    "    attempts += 1\n",
    "    time.sleep(30)\n",
    "    \n",
    "else:\n",
    "  print(f\"Too many errors of type {type(e)} with error message {str(e)}\")"
   ]
  }
 ],
 "metadata": {
  "kernelspec": {
   "display_name": "clothes-model",
   "language": "python",
   "name": "python3"
  },
  "language_info": {
   "codemirror_mode": {
    "name": "ipython",
    "version": 3
   },
   "file_extension": ".py",
   "mimetype": "text/x-python",
   "name": "python",
   "nbconvert_exporter": "python",
   "pygments_lexer": "ipython3",
   "version": "3.10.18"
  }
 },
 "nbformat": 4,
 "nbformat_minor": 5
}
